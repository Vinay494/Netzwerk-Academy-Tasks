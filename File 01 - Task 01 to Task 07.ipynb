{
 "cells": [
  {
   "cell_type": "code",
   "execution_count": null,
   "metadata": {},
   "outputs": [],
   "source": [
    "\"Task 1\"\n",
    "\n",
    "Gone through the basic inbuild methods"
   ]
  },
  {
   "cell_type": "code",
   "execution_count": 45,
   "metadata": {},
   "outputs": [
    {
     "name": "stdout",
     "output_type": "stream",
     "text": [
      "True\n"
     ]
    }
   ],
   "source": [
    "\"Task 2\"\n",
    "\n",
    "# task 2) \n",
    "# given a string for example\n",
    "str1 = \"Welcome to python\"\n",
    "\n",
    "# check if \"to\" is present in \"welcome to python\"\n",
    "\n",
    "\n",
    "str2= \"Welcome to python\"\n",
    "\n",
    "if \"to\" in str2:\n",
    "    print(True)\n",
    "\n"
   ]
  },
  {
   "cell_type": "code",
   "execution_count": 5,
   "metadata": {},
   "outputs": [
    {
     "name": "stdout",
     "output_type": "stream",
     "text": [
      "['palnadu', 'sabari', 'janmabhoomi', 'Narayanadri']\n"
     ]
    }
   ],
   "source": [
    "#List operations \n",
    "#\"TASK 3.1\"\n",
    "\n",
    "\n",
    "# append() method\n",
    "Trains=[\"palnadu\",\"sabari\",\"janmabhoomi\"]\n",
    "Trains.append(\"Narayanadri\")\n",
    "print(Trains)"
   ]
  },
  {
   "cell_type": "code",
   "execution_count": 6,
   "metadata": {},
   "outputs": [
    {
     "name": "stdout",
     "output_type": "stream",
     "text": [
      "[]\n"
     ]
    }
   ],
   "source": [
    "# clear() method\n",
    "Trains.clear()\n",
    "print(Trains)"
   ]
  },
  {
   "cell_type": "code",
   "execution_count": 9,
   "metadata": {},
   "outputs": [
    {
     "name": "stdout",
     "output_type": "stream",
     "text": [
      "['Vizag', 'Amaravati', 'Kurnool', 'Guntur', 'Vijayawada']\n"
     ]
    }
   ],
   "source": [
    "#copy() it dont take arguments inside\n",
    "capitals=['Vizag','Amaravati','Kurnool','Guntur','Vijayawada']\n",
    "two=[]\n",
    "two=capitals.copy()\n",
    "print(two)"
   ]
  },
  {
   "cell_type": "code",
   "execution_count": 10,
   "metadata": {},
   "outputs": [
    {
     "name": "stdout",
     "output_type": "stream",
     "text": [
      "2\n"
     ]
    }
   ],
   "source": [
    "#count\n",
    "marks=[57,94,35,67,89,23,94]\n",
    "print(marks.count(94))"
   ]
  },
  {
   "cell_type": "code",
   "execution_count": 2,
   "metadata": {},
   "outputs": [
    {
     "name": "stdout",
     "output_type": "stream",
     "text": [
      "['Python', 'R', 1, 4, 'python', 'java']\n"
     ]
    }
   ],
   "source": [
    "#extend()\n",
    "# extends (list, set, tuple, etc.) into the original list\n",
    "\n",
    "lis =[\"Python\", \"R\", 1,4]\n",
    "dict={\"python\":1, \"java\":2} #only dictionary keys getting extended into list.\n",
    "lis.extend(dict)\n",
    "print(lis)\n"
   ]
  },
  {
   "cell_type": "code",
   "execution_count": 7,
   "metadata": {},
   "outputs": [
    {
     "name": "stdout",
     "output_type": "stream",
     "text": [
      "1\n"
     ]
    }
   ],
   "source": [
    "zones=['SCR', 'SCoR', 'SR', 'ER']\n",
    "a=zones.index('SCoR')\n",
    "print(a)\n"
   ]
  },
  {
   "cell_type": "code",
   "execution_count": 8,
   "metadata": {},
   "outputs": [
    {
     "name": "stdout",
     "output_type": "stream",
     "text": [
      "['SCR', 'SCoR', 'SR']\n"
     ]
    }
   ],
   "source": [
    "zones.pop(3)\n",
    "print(zones)"
   ]
  },
  {
   "cell_type": "code",
   "execution_count": 9,
   "metadata": {},
   "outputs": [
    {
     "name": "stdout",
     "output_type": "stream",
     "text": [
      "['SCR', 'SCoR', 9, 'SR']\n"
     ]
    }
   ],
   "source": [
    "zones.insert(2, 9)\n",
    "print(zones)"
   ]
  },
  {
   "cell_type": "code",
   "execution_count": 10,
   "metadata": {},
   "outputs": [
    {
     "name": "stdout",
     "output_type": "stream",
     "text": [
      "['SCR', 'SCoR', 'SR']\n"
     ]
    }
   ],
   "source": [
    "zones.remove(9)\n",
    "print(zones)"
   ]
  },
  {
   "cell_type": "code",
   "execution_count": 11,
   "metadata": {},
   "outputs": [
    {
     "name": "stdout",
     "output_type": "stream",
     "text": [
      "['SR', 'SCoR', 'SCR']\n"
     ]
    }
   ],
   "source": [
    "zones.reverse()\n",
    "print(zones)"
   ]
  },
  {
   "cell_type": "code",
   "execution_count": 12,
   "metadata": {},
   "outputs": [
    {
     "name": "stdout",
     "output_type": "stream",
     "text": [
      "['SCR', 'SCoR', 'SR']\n"
     ]
    }
   ],
   "source": [
    "zones.sort()\n",
    "print(zones)"
   ]
  },
  {
   "cell_type": "code",
   "execution_count": null,
   "metadata": {},
   "outputs": [],
   "source": [
    "\n",
    "\"Task 3.2\"\n",
    "\" create a list of lenght = 10 and access 5th to 8th data.\""
   ]
  },
  {
   "cell_type": "code",
   "execution_count": 46,
   "metadata": {},
   "outputs": [
    {
     "name": "stdout",
     "output_type": "stream",
     "text": [
      "3\n",
      "Tirupati\n",
      "4\n",
      "Kakinada\n",
      "[3, 'Tirupati', 4, 'Kakinada']\n"
     ]
    }
   ],
   "source": [
    "lis=[\"Vizag\",1,\"Vijayawada\",2,\"Guntur\",3,\"Tirupati\",4,\"Kakinada\",5]\n",
    "\n",
    "print(lis[5])\n",
    "print(lis[6])\n",
    "print(lis[7])\n",
    "print(lis[8])\n",
    "print(lis[5:9])"
   ]
  },
  {
   "cell_type": "code",
   "execution_count": null,
   "metadata": {},
   "outputs": [],
   "source": [
    "\n",
    "\n",
    "\"Task-4\"\n",
    "\"2 problems!\""
   ]
  },
  {
   "cell_type": "code",
   "execution_count": 30,
   "metadata": {},
   "outputs": [
    {
     "name": "stdout",
     "output_type": "stream",
     "text": [
      "[10, 20, [30, 40, [50, 60, 70], 80], 90, 100]\n"
     ]
    }
   ],
   "source": [
    "#Add item 70 after 60 in the following Python List\n",
    "#input\n",
    "l1 = [10, 20, [30, 40, [50, 60], 80], 90, 100]\n",
    "l1[2][2]=[50,60,70]\n",
    "print(l1)\n"
   ]
  },
  {
   "cell_type": "code",
   "execution_count": 32,
   "metadata": {},
   "outputs": [
    {
     "name": "stdout",
     "output_type": "stream",
     "text": [
      "[1, 2, [3, 4, 5, 6, [7, 8]], 9]\n"
     ]
    }
   ],
   "source": [
    "#add sublist [7,8] after 6\n",
    "#input\n",
    "l2 = [1,2,[3,4,5,6],9]\n",
    "l2[2]=[3,4,5,6,[7,8]]\n",
    "print(l2)\n",
    "\n"
   ]
  },
  {
   "cell_type": "code",
   "execution_count": null,
   "metadata": {},
   "outputs": [],
   "source": [
    "\n",
    "\n",
    "\n",
    "\"Task-5\"\n",
    "\n",
    "dict1 = { \n",
    "   \"april_batch\":{ \n",
    "      \"student\":{ \n",
    "         \"name\":\"Mike\",\n",
    "         \"marks\":{ \n",
    "            \"python\":80,\n",
    "            \"maths\":70\n",
    "         }\n",
    "      }\n",
    "   }\n",
    "}\n",
    "From the above dictionary, do the following tasks\n",
    "\n",
    "access \"Mike\"\n",
    "access 80\n",
    "change \"Mike\" to \"Your name\"\n",
    "add ML = 80 and DL = 80 inside marks"
   ]
  },
  {
   "cell_type": "code",
   "execution_count": 40,
   "metadata": {},
   "outputs": [
    {
     "name": "stdout",
     "output_type": "stream",
     "text": [
      "Mike 80 {'april_batch': {'student': {'name': 'Vinay', 'marks': {'python': 80, 'maths': 70, 'ML': 80, 'DS': 80}}}}\n"
     ]
    }
   ],
   "source": [
    "dict1 = { `\n",
    "   \"april_batch\":{ \n",
    "      \"student\":{ \n",
    "         \"name\":\"Mike\",\n",
    "         \"marks\":{ \n",
    "            \"python\":80,\n",
    "            \"maths\":70\n",
    "         }\n",
    "      }\n",
    "   }\n",
    "}\n",
    "k=dict1[\"april_batch\"][\"student\"][\"name\"]\n",
    "l=dict1[\"april_batch\"][\"student\"][\"marks\"][\"python\"]\n",
    "dict1[\"april_batch\"][\"student\"][\"name\"]=\"Vinay\"\n",
    "dict1[\"april_batch\"][\"student\"][\"marks\"][\"ML\"]=80\n",
    "dict1[\"april_batch\"][\"student\"][\"marks\"][\"DS\"]=80\n",
    "print(k,l, dict1)"
   ]
  },
  {
   "cell_type": "code",
   "execution_count": null,
   "metadata": {},
   "outputs": [],
   "source": [
    "\n",
    "\n",
    "\n",
    "\n",
    "\"Task6 - Add and remove the elements from a tuple.\"\n"
   ]
  },
  {
   "cell_type": "code",
   "execution_count": 41,
   "metadata": {},
   "outputs": [
    {
     "name": "stdout",
     "output_type": "stream",
     "text": [
      "(76, 89, 54, 88, 94, 90)\n"
     ]
    }
   ],
   "source": [
    "tup=(76,89,54,88,94)\n",
    "lis=list(tup)\n",
    "lis.append(90)\n",
    "tup2=tuple(lis)\n",
    "print(tup2)"
   ]
  },
  {
   "cell_type": "code",
   "execution_count": 42,
   "metadata": {},
   "outputs": [
    {
     "name": "stdout",
     "output_type": "stream",
     "text": [
      "(76, 89, 88, 94, 90)\n"
     ]
    }
   ],
   "source": [
    "lis2=list(tup2)\n",
    "lis2.remove(54)\n",
    "tup3=tuple(lis2)\n",
    "print(tup3)"
   ]
  },
  {
   "cell_type": "code",
   "execution_count": null,
   "metadata": {},
   "outputs": [],
   "source": [
    "\n",
    "\n",
    "\n",
    "\"Task7 - \n",
    "go through other inbuilt methods like\"\n",
    "1) difference() 2) symmetric_difference()"
   ]
  },
  {
   "cell_type": "code",
   "execution_count": 43,
   "metadata": {},
   "outputs": [
    {
     "name": "stdout",
     "output_type": "stream",
     "text": [
      "{1, 4, 68}\n"
     ]
    }
   ],
   "source": [
    "abc={1,3,4,68,45}\n",
    "xyz={3,45,6,0,65}\n",
    "k=abc.difference(xyz)\n",
    "print(k)"
   ]
  },
  {
   "cell_type": "code",
   "execution_count": 44,
   "metadata": {},
   "outputs": [
    {
     "name": "stdout",
     "output_type": "stream",
     "text": [
      "{0, 65, 1, 4, 68, 6}\n"
     ]
    }
   ],
   "source": [
    "abc={1,3,4,68,45}\n",
    "xyz={3,45,6,0,65}\n",
    "l=abc.symmetric_difference(xyz)\n",
    "print(l)"
   ]
  },
  {
   "cell_type": "code",
   "execution_count": null,
   "metadata": {},
   "outputs": [],
   "source": []
  }
 ],
 "metadata": {
  "kernelspec": {
   "display_name": "Python 3",
   "language": "python",
   "name": "python3"
  },
  "language_info": {
   "codemirror_mode": {
    "name": "ipython",
    "version": 3
   },
   "file_extension": ".py",
   "mimetype": "text/x-python",
   "name": "python",
   "nbconvert_exporter": "python",
   "pygments_lexer": "ipython3",
   "version": "3.8.3"
  }
 },
 "nbformat": 4,
 "nbformat_minor": 4
}
