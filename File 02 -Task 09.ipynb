{
 "cells": [
  {
   "cell_type": "code",
   "execution_count": 5,
   "metadata": {},
   "outputs": [
    {
     "name": "stdout",
     "output_type": "stream",
     "text": [
      "Enter number 1 56\n",
      "Enter number 2 78\n",
      "Enter operator key7\n",
      "Invalid key\n"
     ]
    }
   ],
   "source": [
    "num1=int(input(\"Enter number 1 \"))\n",
    "num2=int(input(\"Enter number 2 \"))\n",
    "key=int(input(\"Enter operator key\"))\n",
    "\n",
    "if(key==1):\n",
    "    print(num1+num2)\n",
    "elif(key==2):\n",
    "    print(num1-num2)\n",
    "elif(key==3):\n",
    "    print(num1*num2)\n",
    "elif(key==4):\n",
    "    print(num1/num2)\n",
    "else:\n",
    "    print(\"Invalid key\")\n"
   ]
  },
  {
   "cell_type": "code",
   "execution_count": null,
   "metadata": {},
   "outputs": [],
   "source": []
  },
  {
   "cell_type": "code",
   "execution_count": null,
   "metadata": {},
   "outputs": [],
   "source": []
  }
 ],
 "metadata": {
  "kernelspec": {
   "display_name": "Python 3",
   "language": "python",
   "name": "python3"
  },
  "language_info": {
   "codemirror_mode": {
    "name": "ipython",
    "version": 3
   },
   "file_extension": ".py",
   "mimetype": "text/x-python",
   "name": "python",
   "nbconvert_exporter": "python",
   "pygments_lexer": "ipython3",
   "version": "3.8.3"
  }
 },
 "nbformat": 4,
 "nbformat_minor": 4
}
