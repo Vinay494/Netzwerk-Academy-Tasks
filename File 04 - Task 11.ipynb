{
 "cells": [
  {
   "cell_type": "code",
   "execution_count": 5,
   "metadata": {},
   "outputs": [
    {
     "name": "stdout",
     "output_type": "stream",
     "text": [
      "enter number 1 4\n",
      "enter number 2 5\n",
      "9\n",
      "11\n"
     ]
    }
   ],
   "source": [
    "'''Task 11.1\n",
    "\n",
    "\n",
    "\"Explain Return keyword with example.\"\n",
    "\n",
    "Ans : Return keyword is used to return any particular desired output of a function, it indicates that the function teriminates with the return statement. Codes in the function below return statement won't be executed.\n",
    "'''\n",
    "\n",
    "\n",
    "def ad(x,y):\n",
    "    s=(x+y)\n",
    "    print(s)\n",
    "    #print(s) # this statement won't be executed, only one time s will be obtained in output.\n",
    "    \n",
    "\n",
    "    \n",
    "num1=int(input(\"enter number 1 \"))\n",
    "num2=int(input(\"enter number 2 \"))\n",
    "\n",
    "\n",
    "\n",
    "ad(num1, num2)\n",
    "ad(5,6)"
   ]
  },
  {
   "cell_type": "code",
   "execution_count": 5,
   "metadata": {},
   "outputs": [
    {
     "name": "stdout",
     "output_type": "stream",
     "text": [
      "enter number 1 5\n",
      "enter number 2 4\n",
      "Enter the Operation key4\n",
      "1.25\n"
     ]
    }
   ],
   "source": [
    "'''\n",
    "Task11.2\n",
    "\n",
    "\n",
    "Ask 2 numbers from users and store it in num1 and num2\n",
    "Ask user to press 1 for addition,2 for subtraction,3 for multiplication and 4 for division\n",
    "create 4 seperate functions for each operation (i.e. addition,subtraction,multiplication and division)\n",
    "based on number given by user,call that perticular function and print the output\n",
    "'''\n",
    "\n",
    "num1=int(input(\"enter number 1 \"))\n",
    "num2=int(input(\"enter number 2 \"))\n",
    "key=int(input(\"Enter the Operation key\"))\n",
    "\n",
    "\n",
    "def ad(x,y):\n",
    "    s=(x+y)\n",
    "    print(s)\n",
    "\n",
    "def sub(x,y):\n",
    "    d=(x-y)\n",
    "    print(d)\n",
    "\n",
    "def mul(x,y):\n",
    "    p=(x*y)\n",
    "    print(p)\n",
    "    \n",
    "def div(x,y):\n",
    "    d=(x/y)\n",
    "    print(d)\n",
    "\n",
    "if(key==1):\n",
    "    ad(num1,num2)\n",
    "elif(key==2):\n",
    "    sub(num1,num2)\n",
    "elif(key==3):\n",
    "    mul(num1,num2)\n",
    "elif(key==4):\n",
    "    div(num1,num2)\n",
    "else:\n",
    "    print(\"Invalid key\")\n",
    "\n",
    "\n"
   ]
  },
  {
   "cell_type": "code",
   "execution_count": null,
   "metadata": {},
   "outputs": [],
   "source": []
  },
  {
   "cell_type": "code",
   "execution_count": null,
   "metadata": {},
   "outputs": [],
   "source": []
  }
 ],
 "metadata": {
  "kernelspec": {
   "display_name": "Python 3",
   "language": "python",
   "name": "python3"
  },
  "language_info": {
   "codemirror_mode": {
    "name": "ipython",
    "version": 3
   },
   "file_extension": ".py",
   "mimetype": "text/x-python",
   "name": "python",
   "nbconvert_exporter": "python",
   "pygments_lexer": "ipython3",
   "version": "3.8.3"
  }
 },
 "nbformat": 4,
 "nbformat_minor": 4
}
