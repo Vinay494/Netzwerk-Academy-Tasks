{
 "cells": [
  {
   "cell_type": "code",
   "execution_count": 1,
   "metadata": {},
   "outputs": [],
   "source": [
    "import pandas as pd"
   ]
  },
  {
   "cell_type": "code",
   "execution_count": 10,
   "metadata": {},
   "outputs": [],
   "source": [
    "Lin_Reg=pd.read_csv(\"Linear Regression - Sheet1.csv\")\n"
   ]
  },
  {
   "cell_type": "code",
   "execution_count": 11,
   "metadata": {},
   "outputs": [
    {
     "name": "stdout",
     "output_type": "stream",
     "text": [
      "       X           Y\n",
      "0      1    3.888889\n",
      "1      2    4.555556\n",
      "2      3    5.222222\n",
      "3      4    5.888889\n",
      "4      5    6.555556\n",
      "..   ...         ...\n",
      "295  296  200.555556\n",
      "296  297  201.222222\n",
      "297  298  201.888889\n",
      "298  299    1.888889\n",
      "299  300    1.888889\n",
      "\n",
      "[300 rows x 2 columns]\n"
     ]
    }
   ],
   "source": [
    "print(Lin_Reg)"
   ]
  },
  {
   "cell_type": "code",
   "execution_count": 13,
   "metadata": {},
   "outputs": [],
   "source": [
    "Classification=pd.read_csv(\"train.csv\")"
   ]
  },
  {
   "cell_type": "code",
   "execution_count": 14,
   "metadata": {},
   "outputs": [
    {
     "name": "stdout",
     "output_type": "stream",
     "text": [
      "       age  workclass  fnlwgt     education  educational-num  \\\n",
      "0       67    Private  366425     Doctorate               16   \n",
      "1       17    Private  244602          12th                8   \n",
      "2       31    Private  174201     Bachelors               13   \n",
      "3       58  State-gov  110199       7th-8th                4   \n",
      "4       25  State-gov  149248  Some-college               10   \n",
      "...    ...        ...     ...           ...              ...   \n",
      "43952   52    Private   68982     Bachelors               13   \n",
      "43953   19    Private  116562       HS-grad                9   \n",
      "43954   30    Private  197947  Some-college               10   \n",
      "43955   46    Private   97883     Bachelors               13   \n",
      "43956   30    Private  375827       HS-grad                9   \n",
      "\n",
      "           marital-status         occupation    relationship   race  gender  \\\n",
      "0                Divorced    Exec-managerial   Not-in-family  White    Male   \n",
      "1           Never-married      Other-service       Own-child  White    Male   \n",
      "2      Married-civ-spouse    Exec-managerial         Husband  White    Male   \n",
      "3      Married-civ-spouse   Transport-moving         Husband  White    Male   \n",
      "4           Never-married      Other-service   Not-in-family  Black    Male   \n",
      "...                   ...                ...             ...    ...     ...   \n",
      "43952  Married-civ-spouse    Exec-managerial         Husband  White    Male   \n",
      "43953       Never-married      Other-service       Own-child  White  Female   \n",
      "43954            Divorced              Sales   Not-in-family  White    Male   \n",
      "43955       Never-married              Sales   Not-in-family  White  Female   \n",
      "43956       Never-married  Handlers-cleaners  Other-relative  White    Male   \n",
      "\n",
      "       capital-gain  capital-loss  hours-per-week native-country  income_>50K  \n",
      "0             99999             0              60  United-States            1  \n",
      "1                 0             0              15  United-States            0  \n",
      "2                 0             0              40  United-States            1  \n",
      "3                 0             0              40  United-States            0  \n",
      "4                 0             0              40  United-States            0  \n",
      "...             ...           ...             ...            ...          ...  \n",
      "43952             0             0              50  United-States            1  \n",
      "43953             0             0              40  United-States            0  \n",
      "43954             0             0              58  United-States            0  \n",
      "43955             0             0              35  United-States            0  \n",
      "43956             0             0              40  United-States            0  \n",
      "\n",
      "[43957 rows x 15 columns]\n"
     ]
    }
   ],
   "source": [
    "print(Classification)"
   ]
  },
  {
   "cell_type": "code",
   "execution_count": 26,
   "metadata": {},
   "outputs": [],
   "source": [
    "y=Classification[\"income_>50K\"]\n",
    "x=Classification[\"age\"]\n",
    "import matplotlib.pyplot as plt\n"
   ]
  },
  {
   "cell_type": "code",
   "execution_count": 27,
   "metadata": {},
   "outputs": [
    {
     "name": "stdout",
     "output_type": "stream",
     "text": [
      "0        67\n",
      "1        17\n",
      "2        31\n",
      "3        58\n",
      "4        25\n",
      "         ..\n",
      "43952    52\n",
      "43953    19\n",
      "43954    30\n",
      "43955    46\n",
      "43956    30\n",
      "Name: age, Length: 43957, dtype: int64\n"
     ]
    }
   ],
   "source": [
    "print(x)"
   ]
  },
  {
   "cell_type": "code",
   "execution_count": 1,
   "metadata": {},
   "outputs": [
    {
     "ename": "NameError",
     "evalue": "name 'plt' is not defined",
     "output_type": "error",
     "traceback": [
      "\u001b[1;31m---------------------------------------------------------------------------\u001b[0m",
      "\u001b[1;31mNameError\u001b[0m                                 Traceback (most recent call last)",
      "\u001b[1;32m<ipython-input-1-4a797b378235>\u001b[0m in \u001b[0;36m<module>\u001b[1;34m\u001b[0m\n\u001b[1;32m----> 1\u001b[1;33m \u001b[0mplt\u001b[0m\u001b[1;33m.\u001b[0m\u001b[0mbar\u001b[0m\u001b[1;33m(\u001b[0m\u001b[0mx\u001b[0m\u001b[1;33m,\u001b[0m\u001b[0my\u001b[0m\u001b[1;33m)\u001b[0m\u001b[1;33m\u001b[0m\u001b[1;33m\u001b[0m\u001b[0m\n\u001b[0m\u001b[0;32m      2\u001b[0m \u001b[0mplt\u001b[0m\u001b[1;33m.\u001b[0m\u001b[0mxlabel\u001b[0m\u001b[1;33m(\u001b[0m\u001b[1;34m'Fiscal Year'\u001b[0m\u001b[1;33m)\u001b[0m \u001b[1;31m#xlabel\u001b[0m\u001b[1;33m\u001b[0m\u001b[1;33m\u001b[0m\u001b[0m\n\u001b[0;32m      3\u001b[0m \u001b[0mplt\u001b[0m\u001b[1;33m.\u001b[0m\u001b[0mylabel\u001b[0m\u001b[1;33m(\u001b[0m\u001b[1;34m'Public Sector Employees'\u001b[0m\u001b[1;33m)\u001b[0m \u001b[1;31m#ylabel\u001b[0m\u001b[1;33m\u001b[0m\u001b[1;33m\u001b[0m\u001b[0m\n\u001b[0;32m      4\u001b[0m \u001b[0mplt\u001b[0m\u001b[1;33m.\u001b[0m\u001b[0mtitle\u001b[0m\u001b[1;33m(\u001b[0m\u001b[1;34m'Public vs Private employees count rise with raise in population'\u001b[0m\u001b[1;33m)\u001b[0m\u001b[1;33m\u001b[0m\u001b[1;33m\u001b[0m\u001b[0m\n\u001b[0;32m      5\u001b[0m \u001b[0mplt\u001b[0m\u001b[1;33m.\u001b[0m\u001b[0mshow\u001b[0m\u001b[1;33m(\u001b[0m\u001b[1;33m)\u001b[0m\u001b[1;33m\u001b[0m\u001b[1;33m\u001b[0m\u001b[0m\n",
      "\u001b[1;31mNameError\u001b[0m: name 'plt' is not defined"
     ]
    }
   ],
   "source": [
    "plt.bar(x,y)\n",
    "plt.xlabel('Fiscal Year') #xlabel\n",
    "plt.ylabel('Public Sector Employees') #ylabel\n",
    "plt.title('Public vs Private employees count rise with raise in population')\n",
    "plt.show()"
   ]
  },
  {
   "cell_type": "code",
   "execution_count": 2,
   "metadata": {},
   "outputs": [],
   "source": [
    "import pandas as pd"
   ]
  },
  {
   "cell_type": "code",
   "execution_count": 3,
   "metadata": {},
   "outputs": [
    {
     "name": "stdout",
     "output_type": "stream",
     "text": [
      "     sepal_length  sepal_width  petal_length  petal_width         species\n",
      "0             5.1          3.5           1.4          0.2     Iris-setosa\n",
      "1             4.9          3.0           1.4          0.2     Iris-setosa\n",
      "2             4.7          3.2           1.3          0.2     Iris-setosa\n",
      "3             4.6          3.1           1.5          0.2     Iris-setosa\n",
      "4             5.0          3.6           1.4          0.2     Iris-setosa\n",
      "..            ...          ...           ...          ...             ...\n",
      "145           6.7          3.0           5.2          2.3  Iris-virginica\n",
      "146           6.3          2.5           5.0          1.9  Iris-virginica\n",
      "147           6.5          3.0           5.2          2.0  Iris-virginica\n",
      "148           6.2          3.4           5.4          2.3  Iris-virginica\n",
      "149           5.9          3.0           5.1          1.8  Iris-virginica\n",
      "\n",
      "[150 rows x 5 columns]\n"
     ]
    }
   ],
   "source": [
    "iris=pd.read_csv(\"IRIS.csv\")\n",
    "print(iris)"
   ]
  },
  {
   "cell_type": "code",
   "execution_count": 4,
   "metadata": {},
   "outputs": [
    {
     "name": "stdout",
     "output_type": "stream",
     "text": [
      "<bound method NDFrame.head of      sepal_length  sepal_width  petal_length  petal_width         species\n",
      "0             5.1          3.5           1.4          0.2     Iris-setosa\n",
      "1             4.9          3.0           1.4          0.2     Iris-setosa\n",
      "2             4.7          3.2           1.3          0.2     Iris-setosa\n",
      "3             4.6          3.1           1.5          0.2     Iris-setosa\n",
      "4             5.0          3.6           1.4          0.2     Iris-setosa\n",
      "..            ...          ...           ...          ...             ...\n",
      "145           6.7          3.0           5.2          2.3  Iris-virginica\n",
      "146           6.3          2.5           5.0          1.9  Iris-virginica\n",
      "147           6.5          3.0           5.2          2.0  Iris-virginica\n",
      "148           6.2          3.4           5.4          2.3  Iris-virginica\n",
      "149           5.9          3.0           5.1          1.8  Iris-virginica\n",
      "\n",
      "[150 rows x 5 columns]>\n"
     ]
    }
   ],
   "source": [
    "print(iris.head)"
   ]
  },
  {
   "cell_type": "code",
   "execution_count": null,
   "metadata": {},
   "outputs": [],
   "source": []
  }
 ],
 "metadata": {
  "kernelspec": {
   "display_name": "Python 3",
   "language": "python",
   "name": "python3"
  },
  "language_info": {
   "codemirror_mode": {
    "name": "ipython",
    "version": 3
   },
   "file_extension": ".py",
   "mimetype": "text/x-python",
   "name": "python",
   "nbconvert_exporter": "python",
   "pygments_lexer": "ipython3",
   "version": "3.8.3"
  }
 },
 "nbformat": 4,
 "nbformat_minor": 4
}
