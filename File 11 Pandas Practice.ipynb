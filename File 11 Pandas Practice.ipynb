{
 "cells": [
  {
   "cell_type": "code",
   "execution_count": 6,
   "metadata": {},
   "outputs": [
    {
     "name": "stdout",
     "output_type": "stream",
     "text": [
      "Requirement already satisfied: pandas in c:\\users\\admin\\anaconda3\\lib\\site-packages (1.0.5)\n",
      "Requirement already satisfied: numpy>=1.13.3 in c:\\users\\admin\\anaconda3\\lib\\site-packages (from pandas) (1.18.5)\n",
      "Requirement already satisfied: python-dateutil>=2.6.1 in c:\\users\\admin\\anaconda3\\lib\\site-packages (from pandas) (2.8.1)\n",
      "Requirement already satisfied: pytz>=2017.2 in c:\\users\\admin\\anaconda3\\lib\\site-packages (from pandas) (2020.1)\n",
      "Requirement already satisfied: six>=1.5 in c:\\users\\admin\\anaconda3\\lib\\site-packages (from python-dateutil>=2.6.1->pandas) (1.15.0)\n",
      "Requirement already satisfied: numpy in c:\\users\\admin\\anaconda3\\lib\\site-packages (1.18.5)\n"
     ]
    }
   ],
   "source": [
    "! pip install pandas\n",
    "! pip install numpy"
   ]
  },
  {
   "cell_type": "code",
   "execution_count": 7,
   "metadata": {},
   "outputs": [],
   "source": [
    "import pandas as pd\n",
    "import numpy as np"
   ]
  },
  {
   "cell_type": "code",
   "execution_count": 10,
   "metadata": {},
   "outputs": [
    {
     "data": {
      "text/plain": [
       "0    1\n",
       "1    2\n",
       "2    3\n",
       "3    a\n",
       "dtype: object"
      ]
     },
     "execution_count": 10,
     "metadata": {},
     "output_type": "execute_result"
    }
   ],
   "source": [
    "#Creating series\n",
    "\n",
    "new_var=np.array([1,2,3,'a'])  # creating a new numpy variable\n",
    "\n",
    "pd.Series(new_var) # creating series using pandas\n",
    "\n"
   ]
  },
  {
   "cell_type": "code",
   "execution_count": 14,
   "metadata": {},
   "outputs": [
    {
     "name": "stdout",
     "output_type": "stream",
     "text": [
      "{'Name': ['Vinay', 'Sathvik', 'Bhanu', 'Madhu', 'Divya', 'Chandu'], 'Age': [22, 52, 12, 30, 50, 60]}\n",
      "\n",
      "      Name  Age\n",
      "0    Vinay   22\n",
      "1  Sathvik   52\n",
      "2    Bhanu   12\n",
      "3    Madhu   30\n",
      "4    Divya   50\n",
      "5   Chandu   60\n"
     ]
    }
   ],
   "source": [
    "# Data Frame\n",
    "\n",
    "name=[\"Vinay\", \"Sathvik\",\"Bhanu\",\"Madhu\", \"Divya\", \"Chandu\"] # created a list of names\n",
    "\n",
    "age=[22,52,12,30,50,60]  # created a list of ages\n",
    "\n",
    "d={\"Name\":name , \"Age\":age}  #created a dictionary d with keys as \"Name & \"Age\" and values as those lists created above\n",
    "\n",
    "print(d)\n",
    "print(\"\")\n",
    "# DataFrame syntax\n",
    "df=pd.DataFrame(d) # we needto pass the dictionary,that's why created it above.\n",
    "print(df)"
   ]
  },
  {
   "cell_type": "code",
   "execution_count": 16,
   "metadata": {},
   "outputs": [
    {
     "name": "stdout",
     "output_type": "stream",
     "text": [
      "0      Vinay\n",
      "1    Sathvik\n",
      "2      Bhanu\n",
      "3      Madhu\n",
      "4      Divya\n",
      "5     Chandu\n",
      "Name: Name, dtype: object\n",
      "\n",
      "0    22\n",
      "1    52\n",
      "2    12\n",
      "3    30\n",
      "4    50\n",
      "5    60\n",
      "Name: Age, dtype: int64\n"
     ]
    }
   ],
   "source": [
    "print(df['Name'])  #when we wants to access the column called \"Name\"\n",
    "print(\"\")\n",
    "\n",
    "print(df[\"Age\"])"
   ]
  },
  {
   "cell_type": "code",
   "execution_count": 17,
   "metadata": {},
   "outputs": [
    {
     "name": "stdout",
     "output_type": "stream",
     "text": [
      "          Name  Age\n",
      "Rank1    Vinay   22\n",
      "Rank2  Sathvik   52\n",
      "Rank3    Bhanu   12\n",
      "Rank4    Madhu   30\n",
      "Rank5    Divya   50\n",
      "Rank6   Chandu   60\n"
     ]
    }
   ],
   "source": [
    "indexes=[\"Rank1\", \"Rank2\", \"Rank3\", \"Rank4\", \"Rank5\", \"Rank6\" ]\n",
    "df=pd.DataFrame(d, index=indexes)\n",
    "print(df)"
   ]
  },
  {
   "cell_type": "code",
   "execution_count": 18,
   "metadata": {},
   "outputs": [
    {
     "name": "stdout",
     "output_type": "stream",
     "text": [
      "          Name  Age        City\n",
      "Rank1    Vinay   22  Dachepalli\n",
      "Rank2  Sathvik   52    Warangal\n",
      "Rank3    Bhanu   12     Khammam\n",
      "Rank4    Madhu   30      Guntur\n",
      "Rank5    Divya   50   Hyderabad\n",
      "Rank6   Chandu   60   Hyderabad\n"
     ]
    }
   ],
   "source": [
    "city=[\"Dachepalli\", \"Warangal\", \"Khammam\", \"Guntur\", \"Hyderabad\", \"Hyderabad\"]\n",
    "\n",
    "df[\"City\"]=city\n",
    "\n",
    "print(df)"
   ]
  },
  {
   "cell_type": "code",
   "execution_count": 19,
   "metadata": {},
   "outputs": [
    {
     "name": "stdout",
     "output_type": "stream",
     "text": [
      "          Name  Age        City          Profession\n",
      "Rank1    Vinay   22  Dachepalli      Data Scientist\n",
      "Rank2  Sathvik   52    Warangal              Doctor\n",
      "Rank3    Bhanu   12     Khammam  Software developer\n",
      "Rank4    Madhu   30      Guntur             Manager\n",
      "Rank5    Divya   50   Hyderabad            Astronut\n",
      "Rank6   Chandu   60   Hyderabad        Entrepreneur\n"
     ]
    }
   ],
   "source": [
    "profession=[\"Data Scientist\", \"Doctor\", \"Software developer\", \"Manager\", \"Astronut\", \"Entrepreneur\"]\n",
    "df[\"Profession\"]=profession\n",
    "\n",
    "print(df)"
   ]
  },
  {
   "cell_type": "code",
   "execution_count": 3,
   "metadata": {},
   "outputs": [
    {
     "name": "stdout",
     "output_type": "stream",
     "text": [
      "   Fiscal Year  Public Sector Employees (million)  Private Sector Employees (million)  No. of Emp. on Live Reg. (million)  Population (million) Prompts_Time\n",
      "0   1970-71                                 11.10                                6.73                                5.10                 541.0   1970-71   \n",
      "1   1971-72                                 11.69                                6.96                                6.90                 554.0   1971-72   \n",
      "2   1972-73                                 12.40                                6.72                                8.22                 567.0   1972-73   \n",
      "3   1973-74                                 12.73                                6.75                                8.43                 580.0   1973-74   \n",
      "4   1974-75                                 13.13                                6.79                                9.33                 593.0   1974-75   \n",
      "5   1975-76                                 13.63                                6.79                                9.78                 607.0   1975-76   \n",
      "6   1976-77                                 14.18                                6.95                               10.92                 620.0   1976-77   \n",
      "7   1977-78                                 14.73                                7.11                               12.68                 634.0   1977-78   \n",
      "8   1978-79                                 15.58                                7.23                               14.33                 648.0   1978-79   \n",
      "9   1979-80                                 15.12                                7.24                               16.20                 664.0   1979-80   \n",
      "10  1980-81                                 15.48                                7.40                               17.84                 679.0   1980-81   \n",
      "11  1981-82                                 16.28                                7.53                               19.75                 692.0   1981-82   \n",
      "12  1982-83                                 16.75                                7.39                               21.95                 708.0   1982-83   \n",
      "13  1983-84                                 17.22                                7.36                               23.55                 723.0   1983-84   \n",
      "14  1984-85                                 17.58                                7.43                               26.27                 739.0   1984-85   \n",
      "15  1985-86                                 17.68                                7.37                               30.13                 755.0   1985-86   \n",
      "16  1986-87                                 18.24                                7.39                               30.25                 771.0   1986-87   \n",
      "17  1987-88                                 18.32                                7.39                               30.05                 788.0   1987-88   \n",
      "18  1988-89                                 18.51                                7.45                               32.78                 805.0   1988-89   \n",
      "19  1989-90                                 18.77                                7.58                               34.63                 822.0   1989-90   \n",
      "20  1990-91                                 19.06                                7.68                               36.30                 839.0   1990-91   \n",
      "21  1991-92                                 19.21                                7.85                               36.76                 856.0   1991-92   \n",
      "22  1992-93                                 19.33                                7.85                               36.28                 872.0   1992-93   \n",
      "23  1993-94                                 19.45                                7.93                               36.69                 892.0   1993-94   \n",
      "24  1994-95                                 19.47                                8.06                               36.74                 910.0   1994-95   \n",
      "25  1995-96                                 19.43                                8.51                               37.43                 928.0   1995-96   \n",
      "26  1996-97                                 19.56                                8.69                               39.14                 946.0   1996-97   \n",
      "27  1997-98                                 19.42                                8.75                               40.09                 964.0   1997-98   \n",
      "28  1998-99                                 19.41                                8.70                               40.37                 983.0   1998-99   \n",
      "29  1999-00                                 19.31                                8.65                               41.34                1001.0   1999-00   \n",
      "30  2000-01                                 19.14                                8.65                               42.00                1019.0   2000-01   \n",
      "31  2001-02                                 18.77                                8.43                               41.17                1040.0   2001-02   \n",
      "32  2002-03                                 18.58                                8.42                               41.39                1056.0   2002-03   \n",
      "33  2003-04                                 18.20                                8.25                               40.46                1072.0   2003-04   \n",
      "34  2004-05                                 18.01                                8.45                               39.35                1106.0   2004-05   \n",
      "35  2005-06                                 18.19                                8.77                               41.47                1106.0   2005-06   \n",
      "36  2006-07                                 18.00                                9.24                               39.97                   NaN   2006-07   \n",
      "37  2007-08                                 17.67                                9.88                               39.11                   NaN   2007-08   \n",
      "38  2009-10                                 17.86                               10.85                               38.83                   NaN   2009-10   \n",
      "39  2011-12                                 17.61                               12.04                               44.49                   NaN   2011-12   \n",
      "40  2008-09                                 17.80                               10.38                               38.15                   NaN   2008-09   \n",
      "41  2010-11                                 17.55                               11.45                               40.17                   NaN   2010-11   \n",
      "42  2012-13                                   NaN                                 NaN                               46.80                   NaN   2012-13   \n",
      "43  2013-14                                   NaN                                 NaN                               48.26                   NaN   2013-14   \n"
     ]
    }
   ],
   "source": [
    "import pandas as pd\n",
    "jobs=pd.read_csv(\"Employment.csv\")\n",
    "print(jobs.to_string())"
   ]
  },
  {
   "cell_type": "code",
   "execution_count": 45,
   "metadata": {},
   "outputs": [
    {
     "name": "stdout",
     "output_type": "stream",
     "text": [
      "  Fiscal Year  Public Sector Employees (million)  \\\n",
      "0  1970-71                                 11.10   \n",
      "1  1971-72                                 11.69   \n",
      "2  1972-73                                 12.40   \n",
      "3  1973-74                                 12.73   \n",
      "4  1974-75                                 13.13   \n",
      "\n",
      "   Private Sector Employees (million)  No. of Emp. on Live Reg. (million)  \\\n",
      "0                                6.73                                5.10   \n",
      "1                                6.96                                6.90   \n",
      "2                                6.72                                8.22   \n",
      "3                                6.75                                8.43   \n",
      "4                                6.79                                9.33   \n",
      "\n",
      "   Population (million) Prompts_Time  \n",
      "0                 541.0   1970-71     \n",
      "1                 554.0   1971-72     \n",
      "2                 567.0   1972-73     \n",
      "3                 580.0   1973-74     \n",
      "4                 593.0   1974-75     \n"
     ]
    }
   ],
   "source": [
    "print(jobs.head())"
   ]
  },
  {
   "cell_type": "code",
   "execution_count": 46,
   "metadata": {},
   "outputs": [
    {
     "name": "stdout",
     "output_type": "stream",
     "text": [
      "   Fiscal Year  Public Sector Employees (million)  \\\n",
      "39  2011-12                                 17.61   \n",
      "40  2008-09                                 17.80   \n",
      "41  2010-11                                 17.55   \n",
      "42  2012-13                                   NaN   \n",
      "43  2013-14                                   NaN   \n",
      "\n",
      "    Private Sector Employees (million)  No. of Emp. on Live Reg. (million)  \\\n",
      "39                               12.04                               44.49   \n",
      "40                               10.38                               38.15   \n",
      "41                               11.45                               40.17   \n",
      "42                                 NaN                               46.80   \n",
      "43                                 NaN                               48.26   \n",
      "\n",
      "    Population (million) Prompts_Time  \n",
      "39                   NaN   2011-12     \n",
      "40                   NaN   2008-09     \n",
      "41                   NaN   2010-11     \n",
      "42                   NaN   2012-13     \n",
      "43                   NaN   2013-14     \n"
     ]
    }
   ],
   "source": [
    "print(jobs.tail())"
   ]
  },
  {
   "cell_type": "code",
   "execution_count": 42,
   "metadata": {},
   "outputs": [
    {
     "name": "stdout",
     "output_type": "stream",
     "text": [
      "   Fiscal Year Public Sector Employees (million)  \\\n",
      "0   1970-71                                 11.1   \n",
      "1   1971-72                                11.69   \n",
      "2   1972-73                                 12.4   \n",
      "3   1973-74                                12.73   \n",
      "4   1974-75                                13.13   \n",
      "5   1975-76                                13.63   \n",
      "6   1976-77                                14.18   \n",
      "7   1977-78                                14.73   \n",
      "8   1978-79                                15.58   \n",
      "9   1979-80                                15.12   \n",
      "10  1980-81                                15.48   \n",
      "11  1981-82                                16.28   \n",
      "12  1982-83                                16.75   \n",
      "13  1983-84                                17.22   \n",
      "14  1984-85                                17.58   \n",
      "15  1985-86                                17.68   \n",
      "16  1986-87                                18.24   \n",
      "17  1987-88                                18.32   \n",
      "18  1988-89                                18.51   \n",
      "19  1989-90                                18.77   \n",
      "20  1990-91                                19.06   \n",
      "21  1991-92                                19.21   \n",
      "22  1992-93                                19.33   \n",
      "23  1993-94                                19.45   \n",
      "24  1994-95                                19.47   \n",
      "25  1995-96                                19.43   \n",
      "26  1996-97                                19.56   \n",
      "27  1997-98                                19.42   \n",
      "28  1998-99                                19.41   \n",
      "29  1999-00                                19.31   \n",
      "30  2000-01                                19.14   \n",
      "31  2001-02                                18.77   \n",
      "32  2002-03                                18.58   \n",
      "33  2003-04                                 18.2   \n",
      "34  2004-05                                18.01   \n",
      "35  2005-06                                18.19   \n",
      "36  2006-07                                   18   \n",
      "37  2007-08                                17.67   \n",
      "38  2009-10                                17.86   \n",
      "39  2011-12                                17.61   \n",
      "40  2008-09                                 17.8   \n",
      "41  2010-11                                17.55   \n",
      "42  2012-13                             No value   \n",
      "43  2013-14                             No value   \n",
      "\n",
      "   Private Sector Employees (million)  No. of Emp. on Live Reg. (million)  \\\n",
      "0                                6.73                                5.10   \n",
      "1                                6.96                                6.90   \n",
      "2                                6.72                                8.22   \n",
      "3                                6.75                                8.43   \n",
      "4                                6.79                                9.33   \n",
      "5                                6.79                                9.78   \n",
      "6                                6.95                               10.92   \n",
      "7                                7.11                               12.68   \n",
      "8                                7.23                               14.33   \n",
      "9                                7.24                               16.20   \n",
      "10                                7.4                               17.84   \n",
      "11                               7.53                               19.75   \n",
      "12                               7.39                               21.95   \n",
      "13                               7.36                               23.55   \n",
      "14                               7.43                               26.27   \n",
      "15                               7.37                               30.13   \n",
      "16                               7.39                               30.25   \n",
      "17                               7.39                               30.05   \n",
      "18                               7.45                               32.78   \n",
      "19                               7.58                               34.63   \n",
      "20                               7.68                               36.30   \n",
      "21                               7.85                               36.76   \n",
      "22                               7.85                               36.28   \n",
      "23                               7.93                               36.69   \n",
      "24                               8.06                               36.74   \n",
      "25                               8.51                               37.43   \n",
      "26                               8.69                               39.14   \n",
      "27                               8.75                               40.09   \n",
      "28                                8.7                               40.37   \n",
      "29                               8.65                               41.34   \n",
      "30                               8.65                               42.00   \n",
      "31                               8.43                               41.17   \n",
      "32                               8.42                               41.39   \n",
      "33                               8.25                               40.46   \n",
      "34                               8.45                               39.35   \n",
      "35                               8.77                               41.47   \n",
      "36                               9.24                               39.97   \n",
      "37                               9.88                               39.11   \n",
      "38                              10.85                               38.83   \n",
      "39                              12.04                               44.49   \n",
      "40                              10.38                               38.15   \n",
      "41                              11.45                               40.17   \n",
      "42                           No value                               46.80   \n",
      "43                           No value                               48.26   \n",
      "\n",
      "   Population (million) Prompts_Time  \n",
      "0                   541   1970-71     \n",
      "1                   554   1971-72     \n",
      "2                   567   1972-73     \n",
      "3                   580   1973-74     \n",
      "4                   593   1974-75     \n",
      "5                   607   1975-76     \n",
      "6                   620   1976-77     \n",
      "7                   634   1977-78     \n",
      "8                   648   1978-79     \n",
      "9                   664   1979-80     \n",
      "10                  679   1980-81     \n",
      "11                  692   1981-82     \n",
      "12                  708   1982-83     \n",
      "13                  723   1983-84     \n",
      "14                  739   1984-85     \n",
      "15                  755   1985-86     \n",
      "16                  771   1986-87     \n",
      "17                  788   1987-88     \n",
      "18                  805   1988-89     \n",
      "19                  822   1989-90     \n",
      "20                  839   1990-91     \n",
      "21                  856   1991-92     \n",
      "22                  872   1992-93     \n",
      "23                  892   1993-94     \n",
      "24                  910   1994-95     \n",
      "25                  928   1995-96     \n",
      "26                  946   1996-97     \n",
      "27                  964   1997-98     \n",
      "28                  983   1998-99     \n",
      "29                 1001   1999-00     \n",
      "30                 1019   2000-01     \n",
      "31                 1040   2001-02     \n",
      "32                 1056   2002-03     \n",
      "33                 1072   2003-04     \n",
      "34                 1106   2004-05     \n",
      "35                 1106   2005-06     \n",
      "36             No value   2006-07     \n",
      "37             No value   2007-08     \n",
      "38             No value   2009-10     \n",
      "39             No value   2011-12     \n",
      "40             No value   2008-09     \n",
      "41             No value   2010-11     \n",
      "42             No value   2012-13     \n",
      "43             No value   2013-14     \n"
     ]
    }
   ],
   "source": [
    "print(jobs.fillna(\"No value\"))\n"
   ]
  },
  {
   "cell_type": "code",
   "execution_count": 1,
   "metadata": {},
   "outputs": [
    {
     "name": "stdout",
     "output_type": "stream",
     "text": [
      "Requirement already satisfied: matplotlib in c:\\users\\admin\\anaconda3\\lib\\site-packages (3.2.2)\n",
      "Requirement already satisfied: numpy>=1.11 in c:\\users\\admin\\anaconda3\\lib\\site-packages (from matplotlib) (1.18.5)\n",
      "Requirement already satisfied: cycler>=0.10 in c:\\users\\admin\\anaconda3\\lib\\site-packages (from matplotlib) (0.10.0)\n",
      "Requirement already satisfied: kiwisolver>=1.0.1 in c:\\users\\admin\\anaconda3\\lib\\site-packages (from matplotlib) (1.2.0)\n",
      "Requirement already satisfied: pyparsing!=2.0.4,!=2.1.2,!=2.1.6,>=2.0.1 in c:\\users\\admin\\anaconda3\\lib\\site-packages (from matplotlib) (2.4.7)\n",
      "Requirement already satisfied: python-dateutil>=2.1 in c:\\users\\admin\\anaconda3\\lib\\site-packages (from matplotlib) (2.8.1)\n",
      "Requirement already satisfied: six in c:\\users\\admin\\anaconda3\\lib\\site-packages (from cycler>=0.10->matplotlib) (1.15.0)\n"
     ]
    }
   ],
   "source": [
    "!pip install matplotlib\n"
   ]
  },
  {
   "cell_type": "code",
   "execution_count": null,
   "metadata": {},
   "outputs": [],
   "source": []
  }
 ],
 "metadata": {
  "kernelspec": {
   "display_name": "Python 3",
   "language": "python",
   "name": "python3"
  },
  "language_info": {
   "codemirror_mode": {
    "name": "ipython",
    "version": 3
   },
   "file_extension": ".py",
   "mimetype": "text/x-python",
   "name": "python",
   "nbconvert_exporter": "python",
   "pygments_lexer": "ipython3",
   "version": "3.8.3"
  }
 },
 "nbformat": 4,
 "nbformat_minor": 4
}
